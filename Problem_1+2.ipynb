{
 "cells": [
  {
   "cell_type": "code",
   "execution_count": 6,
   "id": "2a06ff7c-a983-4853-851f-37ef27516e03",
   "metadata": {},
   "outputs": [
    {
     "name": "stdout",
     "output_type": "stream",
     "text": [
      "13.1 ft was the highest water level observed, on  2024/09/27  at  23:54\n"
     ]
    }
   ],
   "source": [
    "# Load the data\n",
    "import pandas as pd\n",
    "data = pd.read_csv('CO-OPS_8727520_wl.csv')\n",
    "\n",
    "# Strip any leading/trailing spaces from column names\n",
    "data.columns = data.columns.str.strip()\n",
    "\n",
    "\n",
    "\n",
    "\n",
    "\n",
    "highest_water = 0\n",
    "highest_time = 0\n",
    "\n",
    "for i in range(1, len(data)):\n",
    "    \n",
    "    if data['Preliminary (ft)'][i] > highest_water:\n",
    "        highest_water = data['Preliminary (ft)'][i]\n",
    "        highest_time = i \n",
    "\n",
    "print(highest_water, \"ft was the highest water level observed, on \", data['Date'][i], \" at \", data['Time (GMT)'][i])\n"
   ]
  },
  {
   "cell_type": "code",
   "execution_count": 10,
   "id": "5ecb1d24-0aff-4711-9c83-e5869bb02f5b",
   "metadata": {},
   "outputs": [
    {
     "name": "stdout",
     "output_type": "stream",
     "text": [
      "13.1 ft was the highest water level observed, on  2024/09/27  at  04:42\n",
      "1.53 ft was the lowest water level observed, on  2024/09/27  at  23:00\n",
      "5.684196242171197 ft was the average water level during the observed period\n"
     ]
    }
   ],
   "source": [
    "# Load the data\n",
    "import pandas as pd\n",
    "data = pd.read_csv('CO-OPS_8727520_wl.csv')\n",
    "\n",
    "# Strip any leading/trailing spaces from column names\n",
    "data.columns = data.columns.str.strip()\n",
    "\n",
    "\n",
    "#Initializing variables to store highest water values\n",
    "highest_water = 0\n",
    "highest_time = 0\n",
    "\n",
    "#Initializing variables to store lowest water values\n",
    "lowest_water = 10000000000000000\n",
    "lowest_time = 0\n",
    "\n",
    "#Initializing variables to calculate avg water level\n",
    "instance_counter = 0\n",
    "total_feet = 0\n",
    "\n",
    "\n",
    "for i in range(1, len(data)):\n",
    "    \n",
    "    #Updating highest water level if current value is higher than stored high\n",
    "    if data['Preliminary (ft)'][i] > highest_water:\n",
    "        highest_water = data['Preliminary (ft)'][i]\n",
    "        highest_time = i \n",
    "    \n",
    "    #Updating lowest water level if current value is lower than stored low\n",
    "    if data['Preliminary (ft)'][i] < lowest_water:\n",
    "        lowest_water = data['Preliminary (ft)'][i]\n",
    "        lowest_time = i\n",
    "        \n",
    "    #Counting total measurenents, values for avg calculation   \n",
    "    instance_counter = instance_counter + 1\n",
    "    total_feet = total_feet + data['Preliminary (ft)'][i]\n",
    "    \n",
    "#Calculating average water level\n",
    "average_water = total_feet / instance_counter\n",
    "    \n",
    "#Printing results\n",
    "print(highest_water, \"ft was the highest water level observed, on \", data['Date'][highest_time], \" at \", data['Time (GMT)'][highest_time])\n",
    "print(lowest_water, \"ft was the lowest water level observed, on \", data['Date'][lowest_time], \" at \", data['Time (GMT)'][lowest_time])\n",
    "print(average_water, \"ft was the average water level during the observed period\")\n",
    "      "
   ]
  },
  {
   "cell_type": "code",
   "execution_count": null,
   "id": "b6acdf05-b5c2-43c4-a549-96d5def6e6ad",
   "metadata": {},
   "outputs": [],
   "source": []
  }
 ],
 "metadata": {
  "kernelspec": {
   "display_name": "Python 3 (ipykernel)",
   "language": "python",
   "name": "python3"
  },
  "language_info": {
   "codemirror_mode": {
    "name": "ipython",
    "version": 3
   },
   "file_extension": ".py",
   "mimetype": "text/x-python",
   "name": "python",
   "nbconvert_exporter": "python",
   "pygments_lexer": "ipython3",
   "version": "3.10.12"
  }
 },
 "nbformat": 4,
 "nbformat_minor": 5
}
